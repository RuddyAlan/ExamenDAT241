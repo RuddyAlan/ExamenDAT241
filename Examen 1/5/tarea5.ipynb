{
 "cells": [
  {
   "cell_type": "code",
   "execution_count": 5,
   "metadata": {},
   "outputs": [],
   "source": [
    "import multiprocessing as mp"
   ]
  },
  {
   "cell_type": "code",
   "execution_count": 9,
   "metadata": {},
   "outputs": [],
   "source": [
    "def leibniz_t(n):\n",
    "    return ((-1)**n) / (2*n + 1)"
   ]
  },
  {
   "cell_type": "code",
   "execution_count": 10,
   "metadata": {},
   "outputs": [],
   "source": [
    "def calcula_pi(inicio, fin):\n",
    "    pi = 0\n",
    "    for n in range(inicio, fin):\n",
    "        pi += leibniz_t(n)\n",
    "    return pi"
   ]
  },
  {
   "cell_type": "code",
   "execution_count": 17,
   "metadata": {},
   "outputs": [
    {
     "name": "stdout",
     "output_type": "stream",
     "text": [
      "Pi: 3.141591653589781\n"
     ]
    }
   ],
   "source": [
    "if __name__ == '__main__':\n",
    "    num_term = 10**6\n",
    "    num_procesos = mp.cpu_count()\n",
    "    term_por_procesos = num_term // num_procesos\n",
    "    pool = mp.Pool(processes=num_procesos)\n",
    "\n",
    "    resultados = [\n",
    "        pool.apply_async(calcula_pi, (i * term_por_procesos, (i + 1) * term_por_procesos))\n",
    "        for i in range(num_procesos)\n",
    "    ]\n",
    "\n",
    "    pi = sum(a.get() for a in resultados)\n",
    "    pi *= 4\n",
    "    print(f\"Pi: {pi}\")"
   ]
  }
 ],
 "metadata": {
  "kernelspec": {
   "display_name": "base",
   "language": "python",
   "name": "python3"
  },
  "language_info": {
   "codemirror_mode": {
    "name": "ipython",
    "version": 3
   },
   "file_extension": ".py",
   "mimetype": "text/x-python",
   "name": "python",
   "nbconvert_exporter": "python",
   "pygments_lexer": "ipython3",
   "version": "3.12.4"
  }
 },
 "nbformat": 4,
 "nbformat_minor": 2
}
